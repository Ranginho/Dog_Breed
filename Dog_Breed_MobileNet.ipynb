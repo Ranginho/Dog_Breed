{
  "nbformat": 4,
  "nbformat_minor": 0,
  "metadata": {
    "colab": {
      "name": "Dog_Breed_MobileNet.ipynb",
      "provenance": []
    },
    "kernelspec": {
      "name": "python3",
      "display_name": "Python 3"
    },
    "language_info": {
      "name": "python"
    },
    "accelerator": "GPU"
  },
  "cells": [
    {
      "cell_type": "code",
      "metadata": {
        "colab": {
          "base_uri": "https://localhost:8080/"
        },
        "id": "-lV1Q7sfgAIs",
        "outputId": "b550a558-32b7-467f-b7d5-217f7da0e76f"
      },
      "source": [
        "from google.colab import drive\n",
        "drive.mount('/content/drive')\n",
        "\n",
        "import numpy as np \n",
        "import pandas as pd\n",
        "import os\n",
        "import cv2\n",
        "from tqdm import tqdm\n",
        "from random import shuffle\n",
        "import pickle\n",
        "import random\n",
        "\n",
        "import tensorflow as tf\n",
        "from tensorflow.keras.preprocessing.image import ImageDataGenerator\n",
        "from tensorflow.keras.optimizers import RMSprop\n",
        "\n",
        "image_size = 160\n",
        "\n",
        "datagen = ImageDataGenerator(\n",
        "    rescale=1./255.,\n",
        "    rotation_range = 40,\n",
        "    zoom_range = 0.2,\n",
        "    horizontal_flip = True\n",
        "    )\n",
        "\n",
        "train_generator = datagen.flow_from_directory(\n",
        "        'drive/MyDrive/dog-breed-identification/train_labeled',\n",
        "        target_size=(image_size, image_size),\n",
        "        batch_size=32,\n",
        "        class_mode='categorical',\n",
        "        seed=42,\n",
        "        shuffle=True,)\n",
        "        \n",
        "\n",
        "validation_generator = datagen.flow_from_directory(\n",
        "        'drive/MyDrive/dog-breed-identification/valid_folders',\n",
        "        target_size=(image_size, image_size),\n",
        "        batch_size=32,\n",
        "        class_mode='categorical',\n",
        "        seed=42,\n",
        "        shuffle=True,) "
      ],
      "execution_count": 1,
      "outputs": [
        {
          "output_type": "stream",
          "name": "stdout",
          "text": [
            "Mounted at /content/drive\n",
            "Found 10222 images belonging to 120 classes.\n",
            "Found 1680 images belonging to 120 classes.\n"
          ]
        }
      ]
    },
    {
      "cell_type": "code",
      "metadata": {
        "colab": {
          "base_uri": "https://localhost:8080/"
        },
        "id": "zX2csFgegAyg",
        "outputId": "7c68bf98-2202-4b90-90e0-022cfbecc1aa"
      },
      "source": [
        "IMG_SHAPE = (image_size, image_size, 3)\n",
        "\n",
        "import tensorflow as tf\n",
        "base_model = tf.keras.applications.MobileNetV2(input_shape=IMG_SHAPE,\n",
        "                                              include_top=False,\n",
        "                                              weights='imagenet')\n",
        "\n",
        "base_model.trainable = False\n",
        "\n",
        "model = tf.keras.Sequential([\n",
        "                          base_model,\n",
        "                          tf.keras.layers.Flatten(),\n",
        "                          tf.keras.layers.Dense(120, activation='softmax')])\n",
        "\n",
        "model.compile(optimizer=tf.keras.optimizers.Adam(learning_rate = 0.01),\n",
        "              loss='categorical_crossentropy',\n",
        "              metrics=['accuracy'])"
      ],
      "execution_count": 2,
      "outputs": [
        {
          "output_type": "stream",
          "name": "stdout",
          "text": [
            "Downloading data from https://storage.googleapis.com/tensorflow/keras-applications/mobilenet_v2/mobilenet_v2_weights_tf_dim_ordering_tf_kernels_1.0_160_no_top.h5\n",
            "9412608/9406464 [==============================] - 0s 0us/step\n",
            "9420800/9406464 [==============================] - 0s 0us/step\n"
          ]
        }
      ]
    },
    {
      "cell_type": "code",
      "metadata": {
        "colab": {
          "base_uri": "https://localhost:8080/"
        },
        "id": "CRGZIugWgUXR",
        "outputId": "755969be-3b39-4d04-ab82-9c0bf3b5dfbd"
      },
      "source": [
        "history = model.fit_generator(train_generator,\n",
        "                              steps_per_epoch = 200,\n",
        "                              epochs=60,\n",
        "                              validation_data=validation_generator)"
      ],
      "execution_count": 3,
      "outputs": [
        {
          "output_type": "stream",
          "name": "stderr",
          "text": [
            "/usr/local/lib/python3.7/dist-packages/keras/engine/training.py:1972: UserWarning: `Model.fit_generator` is deprecated and will be removed in a future version. Please use `Model.fit`, which supports generators.\n",
            "  warnings.warn('`Model.fit_generator` is deprecated and '\n"
          ]
        },
        {
          "output_type": "stream",
          "name": "stdout",
          "text": [
            "Epoch 1/60\n",
            "200/200 [==============================] - 1924s 9s/step - loss: 108.0413 - accuracy: 0.2948 - val_loss: 80.1142 - val_accuracy: 0.4744\n",
            "Epoch 2/60\n",
            "200/200 [==============================] - 603s 3s/step - loss: 90.4660 - accuracy: 0.4741 - val_loss: 75.2773 - val_accuracy: 0.5649\n",
            "Epoch 3/60\n",
            "200/200 [==============================] - 280s 1s/step - loss: 88.1622 - accuracy: 0.5314 - val_loss: 76.7807 - val_accuracy: 0.6012\n",
            "Epoch 4/60\n",
            "200/200 [==============================] - 166s 829ms/step - loss: 80.6099 - accuracy: 0.5765 - val_loss: 64.9295 - val_accuracy: 0.6542\n",
            "Epoch 5/60\n",
            "200/200 [==============================] - 123s 614ms/step - loss: 74.9575 - accuracy: 0.6197 - val_loss: 52.6340 - val_accuracy: 0.6929\n",
            "Epoch 6/60\n",
            "200/200 [==============================] - 103s 514ms/step - loss: 65.8590 - accuracy: 0.6680 - val_loss: 59.1669 - val_accuracy: 0.7119\n",
            "Epoch 7/60\n",
            "200/200 [==============================] - 96s 479ms/step - loss: 65.8286 - accuracy: 0.6814 - val_loss: 50.7816 - val_accuracy: 0.7119\n",
            "Epoch 8/60\n",
            "200/200 [==============================] - 92s 463ms/step - loss: 59.2618 - accuracy: 0.6990 - val_loss: 50.9929 - val_accuracy: 0.7286\n",
            "Epoch 9/60\n",
            "200/200 [==============================] - 92s 461ms/step - loss: 60.3577 - accuracy: 0.7062 - val_loss: 46.4575 - val_accuracy: 0.7518\n",
            "Epoch 10/60\n",
            "200/200 [==============================] - 92s 458ms/step - loss: 55.5395 - accuracy: 0.7195 - val_loss: 46.5418 - val_accuracy: 0.7464\n",
            "Epoch 11/60\n",
            "200/200 [==============================] - 92s 460ms/step - loss: 52.8402 - accuracy: 0.7430 - val_loss: 44.9808 - val_accuracy: 0.7661\n",
            "Epoch 12/60\n",
            "200/200 [==============================] - 92s 460ms/step - loss: 54.8576 - accuracy: 0.7523 - val_loss: 54.3944 - val_accuracy: 0.7571\n",
            "Epoch 13/60\n",
            "200/200 [==============================] - 92s 460ms/step - loss: 52.8291 - accuracy: 0.7606 - val_loss: 39.4529 - val_accuracy: 0.8077\n",
            "Epoch 14/60\n",
            "200/200 [==============================] - 93s 464ms/step - loss: 48.0997 - accuracy: 0.7722 - val_loss: 36.8493 - val_accuracy: 0.8065\n",
            "Epoch 15/60\n",
            "200/200 [==============================] - 91s 454ms/step - loss: 47.0784 - accuracy: 0.7835 - val_loss: 43.1894 - val_accuracy: 0.7994\n",
            "Epoch 16/60\n",
            "200/200 [==============================] - 92s 459ms/step - loss: 48.5723 - accuracy: 0.7809 - val_loss: 44.7458 - val_accuracy: 0.8048\n",
            "Epoch 17/60\n",
            "200/200 [==============================] - 93s 467ms/step - loss: 45.7715 - accuracy: 0.7907 - val_loss: 40.6205 - val_accuracy: 0.8071\n",
            "Epoch 18/60\n",
            "200/200 [==============================] - 93s 465ms/step - loss: 46.5088 - accuracy: 0.7929 - val_loss: 42.6703 - val_accuracy: 0.8161\n",
            "Epoch 19/60\n",
            "200/200 [==============================] - 91s 457ms/step - loss: 43.1876 - accuracy: 0.8051 - val_loss: 44.2465 - val_accuracy: 0.8060\n",
            "Epoch 20/60\n",
            "200/200 [==============================] - 92s 461ms/step - loss: 43.6863 - accuracy: 0.8135 - val_loss: 38.7567 - val_accuracy: 0.8357\n",
            "Epoch 21/60\n",
            "200/200 [==============================] - 99s 495ms/step - loss: 42.0698 - accuracy: 0.8150 - val_loss: 39.2303 - val_accuracy: 0.8310\n",
            "Epoch 22/60\n",
            "200/200 [==============================] - 93s 468ms/step - loss: 38.1248 - accuracy: 0.8251 - val_loss: 37.2374 - val_accuracy: 0.8357\n",
            "Epoch 23/60\n",
            "200/200 [==============================] - 92s 461ms/step - loss: 41.3343 - accuracy: 0.8245 - val_loss: 41.4992 - val_accuracy: 0.8327\n",
            "Epoch 24/60\n",
            "200/200 [==============================] - 92s 461ms/step - loss: 40.8490 - accuracy: 0.8325 - val_loss: 31.1794 - val_accuracy: 0.8667\n",
            "Epoch 25/60\n",
            "200/200 [==============================] - 91s 455ms/step - loss: 37.6172 - accuracy: 0.8414 - val_loss: 37.4831 - val_accuracy: 0.8417\n",
            "Epoch 26/60\n",
            "200/200 [==============================] - 92s 460ms/step - loss: 36.3657 - accuracy: 0.8417 - val_loss: 37.6089 - val_accuracy: 0.8488\n",
            "Epoch 27/60\n",
            "200/200 [==============================] - 91s 455ms/step - loss: 41.9666 - accuracy: 0.8297 - val_loss: 34.8454 - val_accuracy: 0.8530\n",
            "Epoch 28/60\n",
            "200/200 [==============================] - 92s 459ms/step - loss: 38.6549 - accuracy: 0.8444 - val_loss: 32.3846 - val_accuracy: 0.8643\n",
            "Epoch 29/60\n",
            "200/200 [==============================] - 92s 460ms/step - loss: 34.3680 - accuracy: 0.8485 - val_loss: 32.0967 - val_accuracy: 0.8565\n",
            "Epoch 30/60\n",
            "200/200 [==============================] - 92s 459ms/step - loss: 35.2404 - accuracy: 0.8529 - val_loss: 31.2865 - val_accuracy: 0.8738\n",
            "Epoch 31/60\n",
            "200/200 [==============================] - 92s 459ms/step - loss: 35.0996 - accuracy: 0.8574 - val_loss: 30.4544 - val_accuracy: 0.8756\n",
            "Epoch 32/60\n",
            "200/200 [==============================] - 91s 455ms/step - loss: 35.8176 - accuracy: 0.8555 - val_loss: 26.7727 - val_accuracy: 0.8804\n",
            "Epoch 33/60\n",
            "200/200 [==============================] - 91s 456ms/step - loss: 33.8239 - accuracy: 0.8610 - val_loss: 30.8427 - val_accuracy: 0.8738\n",
            "Epoch 34/60\n",
            "200/200 [==============================] - 92s 459ms/step - loss: 32.2022 - accuracy: 0.8642 - val_loss: 32.1365 - val_accuracy: 0.8720\n",
            "Epoch 35/60\n",
            "200/200 [==============================] - 92s 459ms/step - loss: 34.8785 - accuracy: 0.8633 - val_loss: 26.3763 - val_accuracy: 0.8869\n",
            "Epoch 36/60\n",
            "200/200 [==============================] - 92s 458ms/step - loss: 31.8255 - accuracy: 0.8710 - val_loss: 29.6363 - val_accuracy: 0.8869\n",
            "Epoch 37/60\n",
            "200/200 [==============================] - 91s 458ms/step - loss: 31.0976 - accuracy: 0.8768 - val_loss: 29.6605 - val_accuracy: 0.8821\n",
            "Epoch 38/60\n",
            "200/200 [==============================] - 91s 458ms/step - loss: 31.4857 - accuracy: 0.8718 - val_loss: 31.0466 - val_accuracy: 0.8869\n",
            "Epoch 39/60\n",
            "200/200 [==============================] - 91s 455ms/step - loss: 30.7021 - accuracy: 0.8775 - val_loss: 31.1981 - val_accuracy: 0.8821\n",
            "Epoch 40/60\n",
            "200/200 [==============================] - 91s 454ms/step - loss: 29.6324 - accuracy: 0.8790 - val_loss: 22.8787 - val_accuracy: 0.8964\n",
            "Epoch 41/60\n",
            "200/200 [==============================] - 92s 460ms/step - loss: 28.9434 - accuracy: 0.8853 - val_loss: 26.7195 - val_accuracy: 0.8935\n",
            "Epoch 42/60\n",
            "200/200 [==============================] - 92s 460ms/step - loss: 31.6607 - accuracy: 0.8840 - val_loss: 31.4048 - val_accuracy: 0.8851\n",
            "Epoch 43/60\n",
            "200/200 [==============================] - 90s 450ms/step - loss: 29.3446 - accuracy: 0.8847 - val_loss: 27.9300 - val_accuracy: 0.8917\n",
            "Epoch 44/60\n",
            "200/200 [==============================] - 90s 452ms/step - loss: 30.5893 - accuracy: 0.8870 - val_loss: 29.9604 - val_accuracy: 0.8905\n",
            "Epoch 45/60\n",
            "200/200 [==============================] - 90s 450ms/step - loss: 30.5553 - accuracy: 0.8856 - val_loss: 21.9670 - val_accuracy: 0.9131\n",
            "Epoch 46/60\n",
            "200/200 [==============================] - 96s 478ms/step - loss: 26.6040 - accuracy: 0.8922 - val_loss: 20.7680 - val_accuracy: 0.9065\n",
            "Epoch 47/60\n",
            "200/200 [==============================] - 97s 484ms/step - loss: 27.5483 - accuracy: 0.8920 - val_loss: 25.9718 - val_accuracy: 0.9137\n",
            "Epoch 48/60\n",
            "200/200 [==============================] - 93s 463ms/step - loss: 29.1202 - accuracy: 0.8887 - val_loss: 26.2569 - val_accuracy: 0.9024\n",
            "Epoch 49/60\n",
            "200/200 [==============================] - 92s 462ms/step - loss: 26.0632 - accuracy: 0.8969 - val_loss: 24.0811 - val_accuracy: 0.9006\n",
            "Epoch 50/60\n",
            "200/200 [==============================] - 91s 453ms/step - loss: 28.5028 - accuracy: 0.8994 - val_loss: 20.9185 - val_accuracy: 0.9196\n",
            "Epoch 51/60\n",
            "200/200 [==============================] - 91s 455ms/step - loss: 26.9093 - accuracy: 0.8966 - val_loss: 22.1062 - val_accuracy: 0.9089\n",
            "Epoch 52/60\n",
            "200/200 [==============================] - 92s 461ms/step - loss: 25.2387 - accuracy: 0.8999 - val_loss: 26.7338 - val_accuracy: 0.9024\n",
            "Epoch 53/60\n",
            "200/200 [==============================] - 92s 459ms/step - loss: 26.7572 - accuracy: 0.9052 - val_loss: 29.5474 - val_accuracy: 0.8946\n",
            "Epoch 54/60\n",
            "200/200 [==============================] - 92s 459ms/step - loss: 25.3766 - accuracy: 0.9069 - val_loss: 24.2240 - val_accuracy: 0.9125\n",
            "Epoch 55/60\n",
            "200/200 [==============================] - 92s 461ms/step - loss: 25.6334 - accuracy: 0.9048 - val_loss: 28.7172 - val_accuracy: 0.8970\n",
            "Epoch 56/60\n",
            "200/200 [==============================] - 91s 456ms/step - loss: 24.6983 - accuracy: 0.9098 - val_loss: 23.2045 - val_accuracy: 0.9107\n",
            "Epoch 57/60\n",
            "200/200 [==============================] - 91s 456ms/step - loss: 24.9456 - accuracy: 0.9036 - val_loss: 23.4390 - val_accuracy: 0.9107\n",
            "Epoch 58/60\n",
            "200/200 [==============================] - 92s 462ms/step - loss: 26.4788 - accuracy: 0.9003 - val_loss: 27.0991 - val_accuracy: 0.9030\n",
            "Epoch 59/60\n",
            "200/200 [==============================] - 91s 455ms/step - loss: 25.6024 - accuracy: 0.9082 - val_loss: 24.7275 - val_accuracy: 0.9089\n",
            "Epoch 60/60\n",
            "200/200 [==============================] - 91s 455ms/step - loss: 27.4985 - accuracy: 0.9049 - val_loss: 20.0890 - val_accuracy: 0.9274\n"
          ]
        }
      ]
    },
    {
      "cell_type": "code",
      "metadata": {
        "colab": {
          "base_uri": "https://localhost:8080/",
          "height": 499
        },
        "id": "5C5nQ1c5Gv38",
        "outputId": "aee54326-c4e4-44b1-8703-b4eeef184038"
      },
      "source": [
        "import matplotlib.pyplot as plt\n",
        "\n",
        "acc = history.history['accuracy']\n",
        "val_acc = history.history['val_accuracy']\n",
        "\n",
        "loss = history.history['loss']\n",
        "val_loss = history.history['val_loss']\n",
        "\n",
        "plt.figure(figsize=(8, 8))\n",
        "plt.subplot(2, 1, 1)\n",
        "plt.plot(acc, label='Training Accuracy')\n",
        "plt.plot(val_acc, label='Validation Accuracy')\n",
        "plt.legend(loc='lower right')\n",
        "plt.ylabel('Accuracy')\n",
        "plt.ylim([min(plt.ylim()),1])\n",
        "plt.title('Training and Validation Accuracy')\n",
        "\n",
        "plt.subplot(2, 1, 2)\n",
        "plt.plot(loss, label='Training Loss')\n",
        "plt.plot(val_loss, label='Validation Loss')\n",
        "plt.legend(loc='upper right')\n",
        "plt.ylabel('Cross Entropy')\n",
        "plt.ylim([0,max(plt.ylim())])\n",
        "plt.title('Training and Validation Loss')\n",
        "plt.show()"
      ],
      "execution_count": 6,
      "outputs": [
        {
          "output_type": "display_data",
          "data": {
            "image/png": "[encoded data removed]",
            "text/plain": [
              "<Figure size 576x576 with 2 Axes>"
            ]
          },
          "metadata": {
            "needs_background": "light"
          }
        }
      ]
    },
    {
      "cell_type": "code",
      "metadata": {
        "id": "k_5LZQqkmEIu"
      },
      "source": [
        ""
      ],
      "execution_count": null,
      "outputs": []
    }
  ]
}